{
 "cells": [
  {
   "cell_type": "markdown",
   "id": "7dd7280a-771b-41ce-a957-61d9fac33d78",
   "metadata": {},
   "source": [
    "#### Life cycle of Machine learning Project\n",
    "\n",
    "data analisys \n",
    "\n",
    "- Understanding the Problem Statement\n",
    "- Data Collection\n",
    "- Data Checks to perform\n",
    "- Exploratory data analysis\n",
    "\n",
    "modeling development\n",
    "- Understanding the Problem Statement\n",
    "- Data collection\n",
    "- Data Pre-Processing\n",
    "- Feature Engineering\n",
    "- Model Training\n",
    "- Choose best model\n",
    "\n",
    "model deploying\n",
    "\n",
    "- structure de code in modular programing\n",
    "- deploy the model in aws\n"
   ]
  },
  {
   "cell_type": "markdown",
   "id": "8abb1f85-b204-41d5-892d-796e6556af29",
   "metadata": {},
   "source": [
    "### 1.0 problem statement\n",
    "\n",
    "una empresa X, tiene una base de datos de clientes, en sql , la empresa almacena difentes datos de los usuarios\n",
    "CustomerID\tGender\tAge\tAnnual Income ($)\tSpending Score (1-100)\tProfession\tWork Experience\tFamily Size\n",
    ", y quiero crear un programa , que a partir de los datos sea capas de predecir , el spending score, \n",
    "el departamento te a asignado, por que eres el nuevo, y quieres, que realices todo el proceso de la creacion del proyecto\n",
    "desde la obtencion de los datos, su analisis, hasta la creacion del modelo, y su despliegue, quieren que prepares\n",
    "todo , para que este disponible como , un microservicio, pero no lo desplegaras solo , lo dejaras preparado, para desplegarlo"
   ]
  },
  {
   "cell_type": "markdown",
   "id": "2e58f5ef-4a7b-4fed-a9f9-32802197dc29",
   "metadata": {},
   "source": [
    "### 2.0 Data Colection"
   ]
  },
  {
   "cell_type": "markdown",
   "id": "c7cc86af-afbd-4556-a267-de3ffe0bb0ba",
   "metadata": {},
   "source": [
    "### librerias a utilizar"
   ]
  },
  {
   "cell_type": "code",
   "execution_count": 218,
   "id": "ed19b7a4-31c4-4e66-bb7a-da39c533383b",
   "metadata": {},
   "outputs": [],
   "source": [
    "from sqlalchemy import create_engine\n",
    "import pandas as pd\n",
    "#imputation\n",
    "from sklearn.impute import SimpleImputer\n",
    "\n",
    "#preprocessing\n",
    "from sklearn.preprocessing import OneHotEncoder\n",
    "from sklearn.preprocessing import StandardScaler\n",
    "from sklearn.compose import ColumnTransformer \n",
    "from sklearn.pipeline import Pipeline\n",
    "\n",
    "#modelos\n",
    "\n",
    "from xgboost import XGBRegressor\n",
    "from sklearn.ensemble import AdaBoostRegressor \n",
    "from sklearn.svm import SVR\n",
    "\n",
    "#for divide de dataset\n",
    "from sklearn.model_selection import train_test_split\n",
    "from sklearn.model_selection import GridSearchCV\n",
    "\n",
    "#metrics \n",
    "from sklearn.metrics import mean_absolute_error\n",
    "from sklearn.metrics import mean_squared_error\n",
    "from sklearn.metrics import r2_score\n"
   ]
  },
  {
   "cell_type": "code",
   "execution_count": null,
   "id": "60103b87-3a5b-45a6-a079-8c0afed664d3",
   "metadata": {},
   "outputs": [],
   "source": []
  },
  {
   "cell_type": "markdown",
   "id": "102df145-c771-4cea-b709-f475d838d1c7",
   "metadata": {},
   "source": [
    "### 2.1 collect the data from database"
   ]
  },
  {
   "cell_type": "code",
   "execution_count": 166,
   "id": "1fa8482a-f3b3-47c8-971a-3d1f9b4d0537",
   "metadata": {},
   "outputs": [],
   "source": [
    "#se supone que esta parte me la da la empresa pero tambien podria pasar que dan desde una api\n",
    "\n",
    "driver = \"ODBC+Driver+17+for+SQL+Server\"\n",
    "server_name = \"localhost\"\n",
    "database = \"BDdatasets\"\n",
    "UID = \"sa\"\n",
    "PWD = \"0440\"\n",
    "\n",
    "connection_string = f\"mssql+pyodbc://{UID}:{PWD}@{server_name}/{database}?driver={driver}\"\n",
    "engine = create_engine(connection_string)\n",
    "\n",
    "query = \"SELECT * FROM Customers\"\n",
    "\n",
    "df = pd.read_sql_query(query , engine)"
   ]
  },
  {
   "cell_type": "markdown",
   "id": "ed56386f-ec29-49d2-9182-e65b6226cd64",
   "metadata": {},
   "source": [
    "### 2.2 show top 5 records"
   ]
  },
  {
   "cell_type": "code",
   "execution_count": 167,
   "id": "fce0cdbf-d88b-4674-9a59-b97e7a0bc7f6",
   "metadata": {},
   "outputs": [
    {
     "data": {
      "text/html": [
       "<div>\n",
       "<style scoped>\n",
       "    .dataframe tbody tr th:only-of-type {\n",
       "        vertical-align: middle;\n",
       "    }\n",
       "\n",
       "    .dataframe tbody tr th {\n",
       "        vertical-align: top;\n",
       "    }\n",
       "\n",
       "    .dataframe thead th {\n",
       "        text-align: right;\n",
       "    }\n",
       "</style>\n",
       "<table border=\"1\" class=\"dataframe\">\n",
       "  <thead>\n",
       "    <tr style=\"text-align: right;\">\n",
       "      <th></th>\n",
       "      <th>CustomerID</th>\n",
       "      <th>Gender</th>\n",
       "      <th>Age</th>\n",
       "      <th>AnnualIncome</th>\n",
       "      <th>SpendingScore</th>\n",
       "      <th>Profession</th>\n",
       "      <th>WorkExperience</th>\n",
       "      <th>FamilySize</th>\n",
       "    </tr>\n",
       "  </thead>\n",
       "  <tbody>\n",
       "    <tr>\n",
       "      <th>0</th>\n",
       "      <td>1</td>\n",
       "      <td>Male</td>\n",
       "      <td>19</td>\n",
       "      <td>15000.0</td>\n",
       "      <td>39.0</td>\n",
       "      <td>Healthcare</td>\n",
       "      <td>1</td>\n",
       "      <td>4</td>\n",
       "    </tr>\n",
       "    <tr>\n",
       "      <th>1</th>\n",
       "      <td>2</td>\n",
       "      <td>Male</td>\n",
       "      <td>21</td>\n",
       "      <td>35000.0</td>\n",
       "      <td>81.0</td>\n",
       "      <td>Engineer</td>\n",
       "      <td>3</td>\n",
       "      <td>3</td>\n",
       "    </tr>\n",
       "    <tr>\n",
       "      <th>2</th>\n",
       "      <td>3</td>\n",
       "      <td>Female</td>\n",
       "      <td>20</td>\n",
       "      <td>86000.0</td>\n",
       "      <td>6.0</td>\n",
       "      <td>Engineer</td>\n",
       "      <td>1</td>\n",
       "      <td>1</td>\n",
       "    </tr>\n",
       "    <tr>\n",
       "      <th>3</th>\n",
       "      <td>4</td>\n",
       "      <td>Female</td>\n",
       "      <td>23</td>\n",
       "      <td>59000.0</td>\n",
       "      <td>77.0</td>\n",
       "      <td>Lawyer</td>\n",
       "      <td>0</td>\n",
       "      <td>2</td>\n",
       "    </tr>\n",
       "    <tr>\n",
       "      <th>4</th>\n",
       "      <td>5</td>\n",
       "      <td>Female</td>\n",
       "      <td>31</td>\n",
       "      <td>38000.0</td>\n",
       "      <td>40.0</td>\n",
       "      <td>Entertainment</td>\n",
       "      <td>2</td>\n",
       "      <td>6</td>\n",
       "    </tr>\n",
       "  </tbody>\n",
       "</table>\n",
       "</div>"
      ],
      "text/plain": [
       "  CustomerID  Gender  Age  AnnualIncome  SpendingScore     Profession  \\\n",
       "0          1    Male   19       15000.0           39.0     Healthcare   \n",
       "1          2    Male   21       35000.0           81.0       Engineer   \n",
       "2          3  Female   20       86000.0            6.0       Engineer   \n",
       "3          4  Female   23       59000.0           77.0         Lawyer   \n",
       "4          5  Female   31       38000.0           40.0  Entertainment   \n",
       "\n",
       "   WorkExperience  FamilySize  \n",
       "0               1           4  \n",
       "1               3           3  \n",
       "2               1           1  \n",
       "3               0           2  \n",
       "4               2           6  "
      ]
     },
     "execution_count": 167,
     "metadata": {},
     "output_type": "execute_result"
    }
   ],
   "source": [
    "df.head()"
   ]
  },
  {
   "cell_type": "markdown",
   "id": "99ce5979-4013-4489-bf8a-adcb46182374",
   "metadata": {},
   "source": [
    "### 2.3 check the dataset info"
   ]
  },
  {
   "cell_type": "code",
   "execution_count": 168,
   "id": "f3f16515-fa86-468b-9e00-320519f0fc59",
   "metadata": {},
   "outputs": [
    {
     "name": "stdout",
     "output_type": "stream",
     "text": [
      "<class 'pandas.core.frame.DataFrame'>\n",
      "RangeIndex: 2000 entries, 0 to 1999\n",
      "Data columns (total 8 columns):\n",
      " #   Column          Non-Null Count  Dtype  \n",
      "---  ------          --------------  -----  \n",
      " 0   CustomerID      2000 non-null   object \n",
      " 1   Gender          2000 non-null   object \n",
      " 2   Age             2000 non-null   int64  \n",
      " 3   AnnualIncome    2000 non-null   float64\n",
      " 4   SpendingScore   2000 non-null   float64\n",
      " 5   Profession      1965 non-null   object \n",
      " 6   WorkExperience  2000 non-null   int64  \n",
      " 7   FamilySize      2000 non-null   int64  \n",
      "dtypes: float64(2), int64(3), object(3)\n",
      "memory usage: 125.1+ KB\n"
     ]
    }
   ],
   "source": [
    "df.info()"
   ]
  },
  {
   "cell_type": "markdown",
   "id": "9586c30b-6783-46dc-93e0-130cd4c1929b",
   "metadata": {},
   "source": [
    "### 3.0 data preprocessing "
   ]
  },
  {
   "cell_type": "markdown",
   "id": "03d8d42d-9630-4bfa-8878-a54844f9ef03",
   "metadata": {},
   "source": [
    "### 3.1 Preparing X and y"
   ]
  },
  {
   "cell_type": "code",
   "execution_count": 178,
   "id": "4042df32-6be1-4f41-b7ab-eb038161d984",
   "metadata": {},
   "outputs": [],
   "source": [
    "X = df.drop(columns = [ \"CustomerID\", \"SpendingScore\"])\n",
    "y = df[\"SpendingScore\"]/100"
   ]
  },
  {
   "cell_type": "markdown",
   "id": "395004a0-459f-4172-86dc-e9a5d2938bba",
   "metadata": {},
   "source": [
    "### 3.2 Creating the preprocessor"
   ]
  },
  {
   "cell_type": "code",
   "execution_count": 179,
   "id": "a8886a09-68d2-40e1-a274-69b10ebecdb2",
   "metadata": {},
   "outputs": [],
   "source": [
    "numerical_features = [feature for feature in X.columns if X[feature].dtype != \"O\"]\n",
    "categorical_features = [feature for feature in X.columns if X[feature].dtype ==\"O\"]\n",
    "\n",
    "numeric_transformer = StandardScaler()\n",
    "categorical_transformer = OneHotEncoder()\n",
    "\n",
    "preprocessor = ColumnTransformer(\n",
    "    [\n",
    "        (\"OneHotEncoder\",categorical_transformer , categorical_features), \n",
    "        (\"StandardScaler\",numeric_transformer, numerical_features)\n",
    "    ]\n",
    ")\n"
   ]
  },
  {
   "cell_type": "markdown",
   "id": "479fe3ae-b4ac-4e46-9fd6-a09449c26a2f",
   "metadata": {},
   "source": [
    "### 3.3 preprocessing the features"
   ]
  },
  {
   "cell_type": "code",
   "execution_count": 180,
   "id": "d0cb8d0a-bc43-4861-bc89-60cf5980eebd",
   "metadata": {},
   "outputs": [],
   "source": [
    "X = preprocessor.fit_transform(X)"
   ]
  },
  {
   "cell_type": "code",
   "execution_count": 181,
   "id": "f9175cd0-30fe-42e4-b4db-00328f028d4a",
   "metadata": {},
   "outputs": [
    {
     "data": {
      "text/plain": [
       "(2000, 16)"
      ]
     },
     "execution_count": 181,
     "metadata": {},
     "output_type": "execute_result"
    }
   ],
   "source": [
    "X.shape"
   ]
  },
  {
   "cell_type": "markdown",
   "id": "b4ddfa12-c06f-4bcf-9c65-2b51dfea8f78",
   "metadata": {},
   "source": [
    "### 3.4 dividing the dataset in train tes"
   ]
  },
  {
   "cell_type": "code",
   "execution_count": 182,
   "id": "bf6ce63d-f6c8-469e-b199-924e396a7964",
   "metadata": {},
   "outputs": [
    {
     "data": {
      "text/plain": [
       "((1600, 16), (400, 16))"
      ]
     },
     "execution_count": 182,
     "metadata": {},
     "output_type": "execute_result"
    }
   ],
   "source": [
    "X_train , X_test , y_train , y_test = train_test_split( X,y ,test_size = 0.2 )\n",
    "X_train.shape , X_test.shape"
   ]
  },
  {
   "cell_type": "markdown",
   "id": "28c5e04e-bc70-49e7-b4a8-2b998bbecee0",
   "metadata": {},
   "source": [
    "### 4.0 model training"
   ]
  },
  {
   "cell_type": "markdown",
   "id": "49cd0aa2-ea31-4339-99af-7e1c6db66685",
   "metadata": {},
   "source": [
    "### 4.1 creating a funtion for get the metrics"
   ]
  },
  {
   "cell_type": "code",
   "execution_count": 183,
   "id": "58c60206-4bc1-470c-85ec-111bf31445a0",
   "metadata": {},
   "outputs": [],
   "source": [
    "def evaluate_model( true,predicted ):\n",
    "    mae = mean_absolute_error(true , predicted)\n",
    "    mse = mean_squared_error(true , predicted)\n",
    "    return ( mse, mae )"
   ]
  },
  {
   "cell_type": "markdown",
   "id": "e1df4127-a864-4c15-8a94-820d01c1111f",
   "metadata": {},
   "source": [
    "### 4.2 training various models"
   ]
  },
  {
   "cell_type": "code",
   "execution_count": 222,
   "id": "a3ecaf70-d015-49c9-bb3d-adc0b94fb1d6",
   "metadata": {},
   "outputs": [
    {
     "name": "stdout",
     "output_type": "stream",
     "text": [
      "model : xgb\n",
      "Model perfomance for training set\n",
      "Mean Square Error 0.02375\n",
      "Mean Absolute Error 0.12191\n",
      "-----------------------------------\n",
      "Model perfomance for test set\n",
      "Mean Square Error 0.09527\n",
      "Mean Absolute Error 0.25772\n",
      "===================================\n",
      "\n",
      "\n",
      "\n",
      "model : AdaBoostRegressor\n",
      "Model perfomance for training set\n",
      "Mean Square Error 0.07582\n",
      "Mean Absolute Error 0.23562\n",
      "-----------------------------------\n",
      "Model perfomance for test set\n",
      "Mean Square Error 0.07903\n",
      "Mean Absolute Error 0.23526\n",
      "===================================\n",
      "\n",
      "\n",
      "\n",
      "model : SVR\n",
      "Model perfomance for training set\n",
      "Mean Square Error 0.05931\n",
      "Mean Absolute Error 0.20017\n",
      "-----------------------------------\n",
      "Model perfomance for test set\n",
      "Mean Square Error 0.09146\n",
      "Mean Absolute Error 0.25089\n",
      "===================================\n",
      "\n",
      "\n",
      "\n"
     ]
    }
   ],
   "source": [
    "models = {\n",
    "            \"xgb\" :XGBRegressor(n_estimators =  40) , \n",
    "            \"AdaBoostRegressor\" : AdaBoostRegressor(n_estimators =  40) , \n",
    "            \"SVR\": SVR(kernel='rbf', C=1.0)\n",
    "}\n",
    "\n",
    "model_and_score_list = []\n",
    "r2_list = []\n",
    "\n",
    "for  model_name, model in models.items():\n",
    "    model.fit(X_train ,y_train)\n",
    "    \n",
    "    y_pred_train = model.predict(X_train)\n",
    "    y_pred_test = model.predict(X_test)\n",
    "    \n",
    "    train_mse, train_mae  = evaluate_model(y_train ,y_pred_train )\n",
    "    test_mse, test_mae = evaluate_model(y_test , y_pred_test)\n",
    "\n",
    "    print(f\"model : {model_name}\")\n",
    "    print(\"Model perfomance for training set\")\n",
    "    print(f\"Mean Square Error {train_mse:.5f}\")\n",
    "    print(f\"Mean Absolute Error {train_mae:.5f}\")\n",
    "    #print(f\"r2_score {train_r2_score:.5f}\")\n",
    "    print(\"-\"*35)\n",
    "\n",
    "    print(\"Model perfomance for test set\")\n",
    "    print(f\"Mean Square Error {test_mse:.5f}\")\n",
    "    print(f\"Mean Absolute Error {test_mae:.5f}\")\n",
    "    #print(f\"r2_score {test_r2_score:.5f}\")\n",
    "    print(\"=\"*35)\n",
    "    print(\"\\n\\n\")\n",
    "\n",
    "    model_and_score_list.append([model_name , test_mse, test_mae ])"
   ]
  },
  {
   "cell_type": "markdown",
   "id": "09bd0151-2376-423c-8b3c-142d2ab0e158",
   "metadata": {},
   "source": [
    "### 5.0 choose de best model"
   ]
  },
  {
   "cell_type": "code",
   "execution_count": 224,
   "id": "1f8d7fd5-1d04-4e35-8176-bcd2f862fd38",
   "metadata": {},
   "outputs": [
    {
     "data": {
      "text/html": [
       "<div>\n",
       "<style scoped>\n",
       "    .dataframe tbody tr th:only-of-type {\n",
       "        vertical-align: middle;\n",
       "    }\n",
       "\n",
       "    .dataframe tbody tr th {\n",
       "        vertical-align: top;\n",
       "    }\n",
       "\n",
       "    .dataframe thead th {\n",
       "        text-align: right;\n",
       "    }\n",
       "</style>\n",
       "<table border=\"1\" class=\"dataframe\">\n",
       "  <thead>\n",
       "    <tr style=\"text-align: right;\">\n",
       "      <th></th>\n",
       "      <th>Name</th>\n",
       "      <th>MSE</th>\n",
       "      <th>MAE</th>\n",
       "    </tr>\n",
       "  </thead>\n",
       "  <tbody>\n",
       "    <tr>\n",
       "      <th>0</th>\n",
       "      <td>xgb</td>\n",
       "      <td>0.095270</td>\n",
       "      <td>0.257722</td>\n",
       "    </tr>\n",
       "    <tr>\n",
       "      <th>1</th>\n",
       "      <td>AdaBoostRegressor</td>\n",
       "      <td>0.079026</td>\n",
       "      <td>0.235257</td>\n",
       "    </tr>\n",
       "    <tr>\n",
       "      <th>2</th>\n",
       "      <td>SVR</td>\n",
       "      <td>0.091459</td>\n",
       "      <td>0.250890</td>\n",
       "    </tr>\n",
       "  </tbody>\n",
       "</table>\n",
       "</div>"
      ],
      "text/plain": [
       "                Name       MSE       MAE\n",
       "0                xgb  0.095270  0.257722\n",
       "1  AdaBoostRegressor  0.079026  0.235257\n",
       "2                SVR  0.091459  0.250890"
      ]
     },
     "execution_count": 224,
     "metadata": {},
     "output_type": "execute_result"
    }
   ],
   "source": [
    "pd.DataFrame(model_and_score_list , columns = [ \"Name\", \"MSE\" , \"MAE\"])"
   ]
  },
  {
   "cell_type": "markdown",
   "id": "5d480c55-bf3f-4641-8325-c66ab7a4ccca",
   "metadata": {},
   "source": [
    "el modelo con mejor rendimiento fue el adaboostregressor"
   ]
  }
 ],
 "metadata": {
  "kernelspec": {
   "display_name": "Python 3 (ipykernel)",
   "language": "python",
   "name": "python3"
  },
  "language_info": {
   "codemirror_mode": {
    "name": "ipython",
    "version": 3
   },
   "file_extension": ".py",
   "mimetype": "text/x-python",
   "name": "python",
   "nbconvert_exporter": "python",
   "pygments_lexer": "ipython3",
   "version": "3.8.19"
  }
 },
 "nbformat": 4,
 "nbformat_minor": 5
}
